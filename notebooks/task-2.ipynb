{
 "cells": [
  {
   "cell_type": "markdown",
   "metadata": {},
   "source": [
    "# Task 2: Time Series Forecasting for Tesla's Stock Price"
   ]
  },
  {
   "cell_type": "code",
   "execution_count": null,
   "metadata": {},
   "outputs": [],
   "source": [
    "# Import Libraries\n",
    "import yfinance as yf\n",
    "import pandas as pd\n",
    "import numpy as np\n",
    "from statsmodels.tsa.arima.model import ARIMA\n",
    "from statsmodels.tsa.statespace.sarimax import SARIMAX\n",
    "from sklearn.metrics import mean_absolute_error, mean_squared_error\n",
    "from math import sqrt\n",
    "import matplotlib.pyplot as plt\n",
    "from pmdarima import auto_arima\n",
    "import tensorflow as tf\n",
    "from tensorflow.keras.models import Sequential\n",
    "from tensorflow.keras.layers import LSTM, Dense, Dropout\n",
    "from tensorflow.keras.preprocessing.sequence import TimeseriesGenerator\n",
    "import joblib\n",
    "import os\n",
    "import sys\n",
    "\n",
    "# Add the parent directory to sys.path\n",
    "sys.path.append(os.path.abspath('../scripts'))\n",
    "\n",
    "# Directory to save models\n",
    "os.makedirs(\"../models\", exist_ok=True)\n"
   ]
  },
  {
   "cell_type": "code",
   "execution_count": null,
   "metadata": {},
   "outputs": [],
   "source": [
    "from time_series_forcasting import load_data,split_data,evaluate_forecast,arima_model,plot_predictions,sarima_model,prepare_lstm_data,build_lstm_model,"
   ]
  },
  {
   "cell_type": "code",
   "execution_count": null,
   "metadata": {},
   "outputs": [],
   "source": [
    "# Load Data\n",
    "data = load_data('TSLA', '2015-01-01', '2024-12-31')"
   ]
  },
  {
   "cell_type": "code",
   "execution_count": null,
   "metadata": {},
   "outputs": [],
   "source": [
    "# Split Data\n",
    "train, test = split_data(data)"
   ]
  },
  {
   "cell_type": "code",
   "execution_count": null,
   "metadata": {},
   "outputs": [],
   "source": [
    " # 1. ARIMA Model\n",
    "arima_fit = arima_model(train)\n",
    "arima_predictions = arima_fit.forecast(steps=len(test))\n",
    "evaluate_forecast(test, arima_predictions)\n",
    "plot_predictions(train, test, arima_predictions, \"ARIMA Model Forecast\")\n"
   ]
  },
  {
   "cell_type": "code",
   "execution_count": null,
   "metadata": {},
   "outputs": [],
   "source": [
    "# 2. SARIMA Model\n",
    "sarima_fit = sarima_model(train)\n",
    "sarima_predictions = sarima_fit.forecast(steps=len(test))\n",
    "evaluate_forecast(test, sarima_predictions)\n",
    "plot_predictions(train, test, sarima_predictions, \"SARIMA Model Forecast\")\n"
   ]
  },
  {
   "cell_type": "code",
   "execution_count": null,
   "metadata": {},
   "outputs": [],
   "source": [
    "# 3. LSTM Model\n",
    "train_data_gen, test_data_gen = prepare_lstm_data(train, test)\n",
    "lstm_model = build_lstm_model((60, 1))\n",
    "lstm_model.fit(train_data_gen, epochs=20, validation_data=test_data_gen, verbose=1)\n",
    "lstm_model.save(\"../models/lstm_model.h5\")\n"
   ]
  },
  {
   "cell_type": "code",
   "execution_count": null,
   "metadata": {},
   "outputs": [],
   "source": [
    "# Make Predictions\n",
    "lstm_predictions = lstm_model.predict(test_data_gen)\n",
    "evaluate_forecast(test[60:], lstm_predictions)\n",
    "plot_predictions(train, test[60:], lstm_predictions, \"LSTM Model Forecast\")\n"
   ]
  }
 ],
 "metadata": {
  "kernelspec": {
   "display_name": "w11venv",
   "language": "python",
   "name": "python3"
  },
  "language_info": {
   "codemirror_mode": {
    "name": "ipython",
    "version": 3
   },
   "file_extension": ".py",
   "mimetype": "text/x-python",
   "name": "python",
   "nbconvert_exporter": "python",
   "pygments_lexer": "ipython3",
   "version": "3.12.9"
  }
 },
 "nbformat": 4,
 "nbformat_minor": 2
}
