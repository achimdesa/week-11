{
 "cells": [
  {
   "cell_type": "code",
   "execution_count": 2,
   "metadata": {},
   "outputs": [],
   "source": [
    "# Import Libraries\n",
    "import sys\n",
    "import os\n",
    "import yfinance as yf\n",
    "import pandas as pd\n",
    "import numpy as np\n",
    "import matplotlib.pyplot as plt\n",
    "import seaborn as sns\n",
    "from statsmodels.tsa.seasonal import seasonal_decompose\n",
    "\n",
    "\n",
    "# Add the parent directory to sys.path\n",
    "sys.path.append(os.path.abspath('../scripts'))"
   ]
  },
  {
   "cell_type": "code",
   "execution_count": 7,
   "metadata": {},
   "outputs": [],
   "source": [
    "from preprocess import load_data,clean_data,plot_closing_prices,plot_daily_returns,summary_statistics,plot_rolling_volatility,decompose_seasonality,plot_outlier_detection,plot_daily_percentage_change,plot_high_low_range,print_key_insights"
   ]
  },
  {
   "cell_type": "markdown",
   "metadata": {},
   "source": [
    "## Load Data from YFinance"
   ]
  },
  {
   "cell_type": "code",
   "execution_count": 4,
   "metadata": {},
   "outputs": [
    {
     "name": "stdout",
     "output_type": "stream",
     "text": [
      "YF.download() has changed argument auto_adjust default to True\n"
     ]
    },
    {
     "name": "stderr",
     "output_type": "stream",
     "text": [
      "[*********************100%***********************]  3 of 3 completed\n"
     ]
    }
   ],
   "source": [
    "# Set plotting style\n",
    "sns.set(style=\"whitegrid\")\n",
    "\n",
    "# Example usage\n",
    "tickers = ['TSLA', 'BND', 'SPY']\n",
    "start_date = '2015-01-01'\n",
    "end_date = '2024-12-31'\n",
    "\n",
    "data = load_data(tickers, start_date, end_date)"
   ]
  },
  {
   "cell_type": "markdown",
   "metadata": {},
   "source": [
    "## Data Cleaning\n",
    "### Check for missing values and forward-fill them"
   ]
  },
  {
   "cell_type": "code",
   "execution_count": 8,
   "metadata": {},
   "outputs": [
    {
     "name": "stdout",
     "output_type": "stream",
     "text": [
      "Missing values before cleaning:\n",
      " Price   Ticker\n",
      "Close   BND       0\n",
      "        SPY       0\n",
      "        TSLA      0\n",
      "High    BND       0\n",
      "        SPY       0\n",
      "        TSLA      0\n",
      "Low     BND       0\n",
      "        SPY       0\n",
      "        TSLA      0\n",
      "Open    BND       0\n",
      "        SPY       0\n",
      "        TSLA      0\n",
      "Volume  BND       0\n",
      "        SPY       0\n",
      "        TSLA      0\n",
      "dtype: int64\n",
      "Missing values after cleaning:\n",
      " Price   Ticker\n",
      "Close   BND       0\n",
      "        SPY       0\n",
      "        TSLA      0\n",
      "High    BND       0\n",
      "        SPY       0\n",
      "        TSLA      0\n",
      "Low     BND       0\n",
      "        SPY       0\n",
      "        TSLA      0\n",
      "Open    BND       0\n",
      "        SPY       0\n",
      "        TSLA      0\n",
      "Volume  BND       0\n",
      "        SPY       0\n",
      "        TSLA      0\n",
      "dtype: int64\n"
     ]
    },
    {
     "name": "stderr",
     "output_type": "stream",
     "text": [
      "e:\\EDUCATION\\Kifiya_AI_Mastery_Program\\week-11\\scripts\\preprocess.py:20: FutureWarning: DataFrame.fillna with 'method' is deprecated and will raise in a future version. Use obj.ffill() or obj.bfill() instead.\n",
      "  data.fillna(method='ffill', inplace=True)\n"
     ]
    }
   ],
   "source": [
    "data = clean_data(data)"
   ]
  },
  {
   "cell_type": "markdown",
   "metadata": {},
   "source": [
    "# Exploratory Data Analysis (EDA)\n",
    "\n",
    "## 1. Plotting the Closing Prices"
   ]
  },
  {
   "cell_type": "code",
   "execution_count": null,
   "metadata": {},
   "outputs": [],
   "source": [
    "plot_closing_prices(data, tickers)"
   ]
  },
  {
   "cell_type": "markdown",
   "metadata": {},
   "source": [
    "## 2. Calculating and Plotting Daily Returns"
   ]
  },
  {
   "cell_type": "code",
   "execution_count": null,
   "metadata": {},
   "outputs": [],
   "source": [
    "\n",
    "daily_returns = plot_daily_returns(data, tickers)"
   ]
  },
  {
   "cell_type": "markdown",
   "metadata": {},
   "source": [
    "## 3. Summary Statistics of Daily Returns"
   ]
  },
  {
   "cell_type": "code",
   "execution_count": null,
   "metadata": {},
   "outputs": [],
   "source": [
    "summary_statistics(daily_returns)"
   ]
  },
  {
   "cell_type": "markdown",
   "metadata": {},
   "source": [
    "## 4. Volatility Analysis using Rolling Statistics (30-day rolling window)"
   ]
  },
  {
   "cell_type": "code",
   "execution_count": null,
   "metadata": {},
   "outputs": [],
   "source": [
    "plot_rolling_volatility(daily_returns, tickers)"
   ]
  },
  {
   "cell_type": "markdown",
   "metadata": {},
   "source": [
    "## 5. Seasonality and Trend Decomposition (Tesla - TSLA example)\n",
    "### Decompose the time series for Tesla's closing prices to analyze trend and seasonality"
   ]
  },
  {
   "cell_type": "code",
   "execution_count": null,
   "metadata": {},
   "outputs": [],
   "source": [
    "decompose_seasonality(data, 'TSLA')"
   ]
  },
  {
   "cell_type": "markdown",
   "metadata": {},
   "source": [
    "## 6. Outlier Detection in Daily Returns"
   ]
  },
  {
   "cell_type": "code",
   "execution_count": null,
   "metadata": {},
   "outputs": [],
   "source": [
    "plot_outlier_detection(daily_returns)"
   ]
  },
  {
   "cell_type": "markdown",
   "metadata": {},
   "source": [
    "## 7. Additional Analysis: Daily Percentage Change and High-Low Range\n",
    "### Percentage change (volatility indicator) and high-low spread for further volatility insight"
   ]
  },
  {
   "cell_type": "code",
   "execution_count": null,
   "metadata": {},
   "outputs": [],
   "source": [
    "plot_daily_percentage_change(data, tickers)"
   ]
  },
  {
   "cell_type": "markdown",
   "metadata": {},
   "source": [
    "### High-Low Range Analysis"
   ]
  },
  {
   "cell_type": "code",
   "execution_count": null,
   "metadata": {},
   "outputs": [],
   "source": [
    "plot_high_low_range(data, tickers)"
   ]
  },
  {
   "cell_type": "markdown",
   "metadata": {},
   "source": [
    "## 8. Key Insights Documentation\n",
    "### Print insights into stock performance, volatility, seasonality, and detected anomalies"
   ]
  },
  {
   "cell_type": "code",
   "execution_count": null,
   "metadata": {},
   "outputs": [
    {
     "name": "stdout",
     "output_type": "stream",
     "text": [
      "Key Insights from EDA:\n",
      "- Tesla (TSLA) shows higher volatility compared to BND and SPY.\n",
      "- BND displays stability with lower fluctuations, providing a cushion during volatile periods.\n",
      "- Seasonal patterns in Tesla indicate periodic upward and downward movements.\n",
      "- Outliers were detected in daily returns, especially in TSLA, signaling high volatility days.\n"
     ]
    }
   ],
   "source": [
    "print_key_insights()"
   ]
  }
 ],
 "metadata": {
  "kernelspec": {
   "display_name": "w11venv",
   "language": "python",
   "name": "python3"
  },
  "language_info": {
   "codemirror_mode": {
    "name": "ipython",
    "version": 3
   },
   "file_extension": ".py",
   "mimetype": "text/x-python",
   "name": "python",
   "nbconvert_exporter": "python",
   "pygments_lexer": "ipython3",
   "version": "3.12.9"
  }
 },
 "nbformat": 4,
 "nbformat_minor": 2
}
