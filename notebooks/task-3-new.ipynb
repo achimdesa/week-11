{
 "cells": [
  {
   "cell_type": "markdown",
   "metadata": {},
   "source": [
    "# Task 3: Forecast Future Market Trends for Tesla Stock"
   ]
  },
  {
   "cell_type": "code",
   "execution_count": 2,
   "metadata": {},
   "outputs": [],
   "source": [
    "# Import necessary libraries\n",
    "import pandas as pd\n",
    "import numpy as np\n",
    "import matplotlib.pyplot as plt\n",
    "import yfinance as yf\n",
    "from statsmodels.tsa.arima.model import ARIMAResults\n",
    "from statsmodels.tsa.statespace.sarimax import SARIMAXResults\n",
    "from tensorflow.keras.models import load_model\n",
    "from tensorflow.keras.preprocessing.sequence import TimeseriesGenerator\n",
    "import joblib\n",
    "\n",
    "import os\n",
    "import sys\n",
    "\n",
    "# Add the parent directory to sys.path\n",
    "sys.path.append(os.path.abspath('../scripts'))\n"
   ]
  },
  {
   "cell_type": "markdown",
   "metadata": {},
   "source": [
    "## Import functions from my module"
   ]
  },
  {
   "cell_type": "code",
   "execution_count": 4,
   "metadata": {},
   "outputs": [],
   "source": [
    "from forecast_market_trends import load_data,plot_forecast,arima_forecast,sarima_forecast,lstm_forecast"
   ]
  },
  {
   "cell_type": "markdown",
   "metadata": {},
   "source": [
    "## Load Data"
   ]
  },
  {
   "cell_type": "code",
   "execution_count": 5,
   "metadata": {},
   "outputs": [
    {
     "name": "stdout",
     "output_type": "stream",
     "text": [
      "YF.download() has changed argument auto_adjust default to True\n"
     ]
    },
    {
     "name": "stderr",
     "output_type": "stream",
     "text": [
      "[*********************100%***********************]  1 of 1 completed\n"
     ]
    }
   ],
   "source": [
    "\n",
    "data = load_data('TSLA', '2015-01-01', '2024-12-31')\n",
    "    \n",
    "# Forecasting Horizon (6-12 months)\n",
    "forecast_horizon = 252  # Around 12 months of trading days\n",
    "\n",
    "# Select model type: 'ARIMA', 'SARIMA', or 'LSTM'\n",
    "model_type = 'ARIMA'  # Replace as needed\n",
    "\n"
   ]
  },
  {
   "cell_type": "markdown",
   "metadata": {},
   "source": [
    "## Load and Forecast with different Models"
   ]
  },
  {
   "cell_type": "code",
   "execution_count": null,
   "metadata": {},
   "outputs": [],
   "source": [
    "# 1. Load and Forecast with ARIMA Model\n",
    "if model_type == 'ARIMA':\n",
    "    arima_model = joblib.load(\"../models/arima_model.pkl\")\n",
    "    arima_predictions, confidence_intervals = arima_forecast(arima_model, forecast_horizon)\n",
    "    plot_forecast(data, arima_predictions, confidence_intervals, \"Tesla Stock Price Forecast - ARIMA\")\n",
    "\n",
    "# 2. Load and Forecast with SARIMA Model\n",
    "elif model_type == 'SARIMA':\n",
    "    sarima_model = joblib.load(\"../models/sarima_model.pkl\")\n",
    "    sarima_predictions, confidence_intervals = sarima_forecast(sarima_model, forecast_horizon)\n",
    "    plot_forecast(data, sarima_predictions, confidence_intervals, \"Tesla Stock Price Forecast - SARIMA\")\n",
    "\n",
    "# 3. Load and Forecast with LSTM Model\n",
    "elif model_type == 'LSTM':\n",
    "    lstm_model = load_model(\"../models/lstm_model.h5\")\n",
    "        \n",
    "    # Prepare the input sequence for LSTM based on the last 60 data points\n",
    "    last_data = data[-60:].values.reshape(-1, 1)\n",
    "    lstm_predictions = lstm_forecast(lstm_model, last_data, forecast_horizon)\n",
    "\n",
    "    # Convert LSTM predictions to a DataFrame with a Date index\n",
    "    lstm_forecast_dates = pd.date_range(start=data.index[-1], periods=forecast_horizon + 1, freq='B')[1:]\n",
    "    lstm_forecast_df = pd.DataFrame(lstm_predictions, index=lstm_forecast_dates, columns=['LSTM Forecast'])\n",
    "        \n",
    "    plot_forecast(data, lstm_forecast_df['LSTM Forecast'], title=\"Tesla Stock Price Forecast - LSTM\")"
   ]
  },
  {
   "cell_type": "markdown",
   "metadata": {},
   "source": [
    "\n",
    "# Interpretation of Forecast Results\n",
    "\n",
    "## **Trend Analysis**: The forecast shows whether Tesla's stock is expected to move upward, downward, or remain stable.\")\n",
    "## **Volatility and Risk**: Confidence intervals indicate potential uncertainty, with wider intervals suggesting higher volatility.\")\n",
    "## **Market Opportunities and Risks**: Based on the forecast, identify opportunities in expected price increases and risks during high volatility periods.\")\n"
   ]
  }
 ],
 "metadata": {
  "kernelspec": {
   "display_name": "w11venv",
   "language": "python",
   "name": "python3"
  },
  "language_info": {
   "codemirror_mode": {
    "name": "ipython",
    "version": 3
   },
   "file_extension": ".py",
   "mimetype": "text/x-python",
   "name": "python",
   "nbconvert_exporter": "python",
   "pygments_lexer": "ipython3",
   "version": "3.12.9"
  }
 },
 "nbformat": 4,
 "nbformat_minor": 2
}
